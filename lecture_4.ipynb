{
 "cells": [
  {
   "cell_type": "code",
   "execution_count": 2,
   "metadata": {},
   "outputs": [],
   "source": [
    "import numpy as np"
   ]
  },
  {
   "cell_type": "code",
   "execution_count": 3,
   "metadata": {},
   "outputs": [
    {
     "name": "stdout",
     "output_type": "stream",
     "text": [
      "x1:\n",
      " [[ 0.]\n",
      " [12.]]\n",
      "\n",
      "x2:\n",
      " [[ 1.]\n",
      " [-3.]]\n",
      "\n",
      "x3:\n",
      " [[0.]\n",
      " [0.]]\n",
      "\n",
      "x4:\n",
      " [[-4.2]\n",
      " [ 0.2]]\n",
      "\n",
      "x5:\n",
      " [[ 1.6]\n",
      " [-1.1]]\n"
     ]
    }
   ],
   "source": [
    "# Unique parameters for this assignment (generated from your Student ID)\n",
    "\n",
    "n0, n1, n2, n3, n4 = _, _, _, _, _\n",
    "\n",
    "# Sample Data\n",
    "x1 = np.array([0,            n4 * (3/2)]).reshape(-1,1)\n",
    "x2 = np.array([n1,           n3 * (-1/2)]).reshape(-1,1)\n",
    "x3 = np.array([n2 * (12/5),  n2]).reshape(-1,1)\n",
    "x4 = np.array([n3 * (-7/10), n1 * (1/5)]).reshape(-1,1)\n",
    "x5 = np.array([n4 * (1/5),   n0 * (-11/10)]).reshape(-1,1)\n",
    "\n",
    "print(\"x1:\\n\", x1)\n",
    "print()\n",
    "print(\"x2:\\n\", x2)\n",
    "print()\n",
    "print(\"x3:\\n\", x3)\n",
    "print()\n",
    "print(\"x4:\\n\", x4)\n",
    "print()\n",
    "print(\"x5:\\n\", x5)   \n",
    "\n"
   ]
  },
  {
   "cell_type": "code",
   "execution_count": 4,
   "metadata": {},
   "outputs": [
    {
     "name": "stdout",
     "output_type": "stream",
     "text": [
      "W:\n",
      " [[1]\n",
      " [0]]\n",
      "\n",
      "μ:\n",
      " [[0]\n",
      " [0]]\n",
      "\n",
      "Σ:\n",
      " [[1 0]\n",
      " [0 1]]\n"
     ]
    }
   ],
   "source": [
    "# Model Parameters\n",
    "\n",
    "W = np.array([1,0]).reshape(-1,1)\n",
    "μ = np.array([0,0]).reshape(-1,1)\n",
    "Σ = np.array([[1,0],[0,1]])\n",
    "\n",
    "print(\"W:\\n\", W)\n",
    "print()\n",
    "print('μ:\\n', μ)\n",
    "print()\n",
    "print('Σ:\\n', Σ)"
   ]
  },
  {
   "cell_type": "markdown",
   "metadata": {},
   "source": [
    "## Question 1"
   ]
  },
  {
   "cell_type": "markdown",
   "metadata": {},
   "source": [
    "$\\hat{\\mu} = \\frac{1}{N}\\sum^N_{n=1}x_n$\n",
    "\n",
    "$x_n' = x_n - \\hat{\\mu}$"
   ]
  },
  {
   "cell_type": "code",
   "execution_count": 5,
   "metadata": {},
   "outputs": [
    {
     "name": "stdout",
     "output_type": "stream",
     "text": [
      "μ_update:\n",
      " [[-0.32]\n",
      " [ 1.62]]\n"
     ]
    }
   ],
   "source": [
    "μ_update = np.mean([x1, x2, x3, x4, x5], axis=0)\n",
    "μ_update\n",
    "\n",
    "print('μ_update:\\n', μ_update)"
   ]
  },
  {
   "cell_type": "code",
   "execution_count": 6,
   "metadata": {},
   "outputs": [
    {
     "name": "stdout",
     "output_type": "stream",
     "text": [
      "x1':\n",
      " [[ 0.32]\n",
      " [10.38]]\n",
      "\n",
      "x2':\n",
      " [[ 1.32]\n",
      " [-4.62]]\n",
      "\n",
      "x3':\n",
      " [[ 0.32]\n",
      " [-1.62]]\n",
      "\n",
      "x4':\n",
      " [[-3.88]\n",
      " [-1.42]]\n",
      "\n",
      "x5':\n",
      " [[ 1.92]\n",
      " [-2.72]]\n"
     ]
    }
   ],
   "source": [
    "x1_deviation = x1 - μ_update\n",
    "x2_deviation = x2 - μ_update\n",
    "x3_deviation = x3 - μ_update\n",
    "x4_deviation = x4 - μ_update\n",
    "x5_deviation = x5 - μ_update\n",
    "\n",
    "print(\"x1':\\n\", x1_deviation)\n",
    "print()\n",
    "print(\"x2':\\n\", x2_deviation)\n",
    "print()\n",
    "print(\"x3':\\n\", x3_deviation)  \n",
    "print()\n",
    "print(\"x4':\\n\", x4_deviation)\n",
    "print()\n",
    "print(\"x5':\\n\", x5_deviation)"
   ]
  },
  {
   "cell_type": "markdown",
   "metadata": {},
   "source": [
    "## Question 2"
   ]
  },
  {
   "cell_type": "markdown",
   "metadata": {},
   "source": [
    "Posterior probability density function of latent variables:\n",
    "\n",
    "$\\Sigma^{(z \\mid x)} = (W^\\top\\Sigma^{-1}W+I)^{-1}$\n",
    "\n",
    "$\\mu_n^{z \\mid x} = \\Sigma^{(z \\mid x)} W^\\top\\Sigma^{-1}x_n'$\n"
   ]
  },
  {
   "cell_type": "code",
   "execution_count": 7,
   "metadata": {},
   "outputs": [
    {
     "name": "stdout",
     "output_type": "stream",
     "text": [
      "Σ_zx (posterior covariance of latent variable z):\n",
      " [[0.5]]\n"
     ]
    }
   ],
   "source": [
    "Σ_inv = np.linalg.inv(Σ)\n",
    "I = 1\n",
    "\n",
    "Σ_zx = np.linalg.inv(W.T @ Σ_inv @ W + I)\n",
    "print('Σ_zx (posterior covariance of latent variable z):\\n', Σ_zx)"
   ]
  },
  {
   "cell_type": "code",
   "execution_count": 10,
   "metadata": {},
   "outputs": [
    {
     "name": "stdout",
     "output_type": "stream",
     "text": [
      "μ_zx_1:\n",
      " [[0.16]]\n",
      "\n",
      "μ_zx_2:\n",
      " [[0.66]]\n",
      "\n",
      "μ_zx_3:\n",
      " [[0.16]]\n",
      "\n",
      "μ_zx_4:\n",
      " [[-1.94]]\n",
      "\n",
      "μ_zx_5:\n",
      " [[0.96]]\n"
     ]
    }
   ],
   "source": [
    "μ_zx_1 = Σ_zx @ W.T @ Σ_inv @ x1_deviation # z_1\n",
    "μ_zx_2 = Σ_zx @ W.T @ Σ_inv @ x2_deviation # z_2\n",
    "μ_zx_3 = Σ_zx @ W.T @ Σ_inv @ x3_deviation # z_3\n",
    "μ_zx_4 = Σ_zx @ W.T @ Σ_inv @ x4_deviation # z_4\n",
    "μ_zx_5 = Σ_zx @ W.T @ Σ_inv @ x5_deviation # z_5\n",
    "\n",
    "print(\"μ_zx_1:\\n\", μ_zx_1)\n",
    "print()\n",
    "print(\"μ_zx_2:\\n\", μ_zx_2)\n",
    "print()\n",
    "print(\"μ_zx_3:\\n\", μ_zx_3)\n",
    "print()\n",
    "print(\"μ_zx_4:\\n\", μ_zx_4)\n",
    "print()\n",
    "print(\"μ_zx_5:\\n\", μ_zx_5)\n"
   ]
  },
  {
   "cell_type": "code",
   "execution_count": 11,
   "metadata": {},
   "outputs": [
    {
     "name": "stdout",
     "output_type": "stream",
     "text": [
      "zzT_1:\n",
      " [[0.5256]]\n",
      "\n",
      "zzT_2:\n",
      " [[0.9356]]\n",
      "\n",
      "zzT_3:\n",
      " [[0.5256]]\n",
      "\n",
      "zzT_4:\n",
      " [[4.2636]]\n",
      "\n",
      "zzT_5:\n",
      " [[1.4216]]\n"
     ]
    }
   ],
   "source": [
    "zzT_1 = Σ_zx + μ_zx_1 @ μ_zx_1.T\n",
    "zzT_2 = Σ_zx + μ_zx_2 @ μ_zx_2.T\n",
    "zzT_3 = Σ_zx + μ_zx_3 @ μ_zx_3.T\n",
    "zzT_4 = Σ_zx + μ_zx_4 @ μ_zx_4.T\n",
    "zzT_5 = Σ_zx + μ_zx_5 @ μ_zx_5.T\n",
    "\n",
    "print(\"zzT_1:\\n\", zzT_1)\n",
    "print()\n",
    "print(\"zzT_2:\\n\", zzT_2)\n",
    "print()\n",
    "print(\"zzT_3:\\n\", zzT_3)\n",
    "print()\n",
    "print(\"zzT_4:\\n\", zzT_4)\n",
    "print()\n",
    "print(\"zzT_5:\\n\", zzT_5)"
   ]
  },
  {
   "cell_type": "markdown",
   "metadata": {},
   "source": [
    "## Question 3"
   ]
  },
  {
   "cell_type": "markdown",
   "metadata": {},
   "source": [
    "$\\begin{aligned}\n",
    "\\left\\langle\\boldsymbol{x}^{\\prime} \\boldsymbol{x}^{\\prime \\top}\\right\\rangle & =\\sum_{n=1}^N \\boldsymbol{x}_n^{\\prime} \\boldsymbol{x}_n^{\\prime \\top} \\\\\n",
    "\\left\\langle\\boldsymbol{z}\\boldsymbol{z}^{\\top}\\right\\rangle & =\\sum_{n=1}^N\\left\\langle\\boldsymbol{z}\\boldsymbol{z}^{\\top}\\right\\rangle_n \\\\\n",
    "\\left\\langle\\boldsymbol{x}^{\\prime}\\langle\\boldsymbol{z}\\rangle^{\\top}\\right\\rangle & =\\sum_{n=1}^N \\boldsymbol{x}_n^{\\prime}\\langle\\boldsymbol{z}\\rangle^{\\top}\n",
    "\\end{aligned}$"
   ]
  },
  {
   "cell_type": "code",
   "execution_count": 12,
   "metadata": {},
   "outputs": [
    {
     "name": "stdout",
     "output_type": "stream",
     "text": [
      "N:\n",
      " 5\n",
      "\n",
      "<x'x'T>:\n",
      " [[ 20.688  -3.008]\n",
      " [ -3.008 141.128]]\n",
      "\n",
      "<zzT>:\n",
      " [[7.672]]\n",
      "\n",
      "<x'<zT>>:\n",
      " [[10.344]\n",
      " [-1.504]]\n"
     ]
    }
   ],
   "source": [
    "N = 5\n",
    "\n",
    "xx_statistic = x1_deviation @ x1_deviation.T\\\n",
    "                + x2_deviation @ x2_deviation.T\\\n",
    "                + x3_deviation @ x3_deviation.T\\\n",
    "                + x4_deviation @ x4_deviation.T\\\n",
    "                + x5_deviation @ x5_deviation.T\n",
    "\n",
    "zz_statistic = zzT_1 + zzT_2 + zzT_3 + zzT_4 + zzT_5 \n",
    "\n",
    "xz_statistic = x1_deviation @ μ_zx_1.T\\\n",
    "                + x2_deviation @ μ_zx_2.T\\\n",
    "                + x3_deviation @ μ_zx_3.T\\\n",
    "                + x4_deviation @ μ_zx_4.T\\\n",
    "                + x5_deviation @ μ_zx_5.T\n",
    "\n",
    "print(\"N:\\n\", N)\n",
    "print()\n",
    "print(\"<x'x'T>:\\n\", xx_statistic)\n",
    "print()\n",
    "print(\"<zzT>:\\n\", zz_statistic)\n",
    "print()\n",
    "print(\"<x'<zT>>:\\n\", xz_statistic)"
   ]
  },
  {
   "cell_type": "markdown",
   "metadata": {},
   "source": [
    "## Question 4"
   ]
  },
  {
   "cell_type": "markdown",
   "metadata": {},
   "source": [
    "$\\hat{\\boldsymbol{W}}=\\left\\langle\\boldsymbol{x}^{\\prime}\\langle\\boldsymbol{z}\\rangle^{\\top}\\right\\rangle\\left\\langle\\boldsymbol{z}^{\\top}\\right\\rangle^{-1}$\n",
    "\n",
    "$\\hat{\\boldsymbol{\\Sigma}}=\\frac{1}{N} \\operatorname{diag}\\left[\\left\\langle\\boldsymbol{x}^{\\prime} \\boldsymbol{x}^{\\prime \\top}\\right\\rangle-\\left\\langle\\boldsymbol{x}^{\\prime}\\langle\\boldsymbol{z}\\rangle^{\\top}\\right\\rangle \\hat{\\boldsymbol{W}}^{\\top}\\right]$"
   ]
  },
  {
   "cell_type": "code",
   "execution_count": 13,
   "metadata": {},
   "outputs": [
    {
     "name": "stdout",
     "output_type": "stream",
     "text": [
      "W_hat:\n",
      " [[ 1.34827946]\n",
      " [-0.19603754]]\n",
      "\n",
      "Σ_hat:\n",
      " [[ 1.34827946  0.        ]\n",
      " [ 0.         28.16663191]]\n"
     ]
    }
   ],
   "source": [
    "W_hat = xz_statistic @ np.linalg.inv(zz_statistic)\n",
    "Σ_hat = (1/N) * np.diag(np.diag(xx_statistic - xz_statistic @ W_hat.T))\n",
    "\n",
    "print(\"W_hat:\\n\", W_hat)\n",
    "print()\n",
    "print(\"Σ_hat:\\n\", Σ_hat)"
   ]
  },
  {
   "cell_type": "markdown",
   "metadata": {},
   "source": [
    "## Question 5"
   ]
  },
  {
   "cell_type": "markdown",
   "metadata": {},
   "source": [
    "$Σ_{update} = \\Sigma + WW^\\top$"
   ]
  },
  {
   "cell_type": "code",
   "execution_count": 14,
   "metadata": {},
   "outputs": [
    {
     "name": "stdout",
     "output_type": "stream",
     "text": [
      "Σ_before:\n",
      " [[2 0]\n",
      " [0 1]]\n",
      "\n",
      "Σ_after:\n",
      " [[ 3.16613695 -0.26431339]\n",
      " [-0.26431339 28.20506262]]\n"
     ]
    }
   ],
   "source": [
    "Σ_before = Σ + W @ W.T\n",
    "Σ_after = Σ_hat + W_hat @ W_hat.T\n",
    "\n",
    "print(\"Σ_before:\\n\", Σ_before)\n",
    "print()\n",
    "print(\"Σ_after:\\n\", Σ_after)"
   ]
  },
  {
   "cell_type": "code",
   "execution_count": null,
   "metadata": {},
   "outputs": [],
   "source": []
  },
  {
   "cell_type": "code",
   "execution_count": null,
   "metadata": {},
   "outputs": [],
   "source": []
  },
  {
   "cell_type": "code",
   "execution_count": null,
   "metadata": {},
   "outputs": [],
   "source": []
  },
  {
   "cell_type": "code",
   "execution_count": null,
   "metadata": {},
   "outputs": [],
   "source": []
  }
 ],
 "metadata": {
  "kernelspec": {
   "display_name": "myenv",
   "language": "python",
   "name": "python3"
  },
  "language_info": {
   "codemirror_mode": {
    "name": "ipython",
    "version": 3
   },
   "file_extension": ".py",
   "mimetype": "text/x-python",
   "name": "python",
   "nbconvert_exporter": "python",
   "pygments_lexer": "ipython3",
   "version": "3.12.3"
  }
 },
 "nbformat": 4,
 "nbformat_minor": 2
}
